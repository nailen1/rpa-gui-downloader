{
 "cells": [
  {
   "cell_type": "code",
   "execution_count": 1,
   "metadata": {},
   "outputs": [],
   "source": [
    "import DownloadAutomation as da\n",
    "from DownloadAutomation import BOS\n",
    "from DownloadAutomation import MOS\n"
   ]
  },
  {
   "cell_type": "code",
   "execution_count": 2,
   "metadata": {},
   "outputs": [
    {
     "name": "stdout",
     "output_type": "stream",
     "text": [
      "- step: open menu: 8186\n",
      "- Timeout! Could not find the image 'image-8186-loading.png' within 1 seconds.\n",
      "- step: open fund popup.\n",
      "- Timeout! Could not find the image 'image-8186-loading.png' within 1 seconds.\n",
      "- step: select fund on popup.\n",
      "step: wait loading...\n",
      "- step: load system dataset.\n",
      "- step: execute Excel.\n",
      "- step: open save as popup.\n",
      "- Timeout! Could not find the image 'image-8186-loading.png' within 1 seconds.\n",
      "- step: input save settings.\n",
      "- Timeout! Could not find the image 'icon-caution-save-as.png' within 1 seconds.\n",
      "- Timeout! Could not find the image 'image-8186-loading.png' within 1 seconds.\n",
      "- step: terminate Excel.\n",
      "- step: return to home.\n",
      "- save complete: menu8186-codeA00001-save202311061239.csv in C:\\rpa-download-datasets\n"
     ]
    }
   ],
   "source": [
    "BOS(fund_code='A00001', start_date='20210101', end_date='20231103').goto_menu('8186').download_dataset()"
   ]
  },
  {
   "cell_type": "code",
   "execution_count": null,
   "metadata": {},
   "outputs": [],
   "source": []
  }
 ],
 "metadata": {
  "kernelspec": {
   "display_name": "base",
   "language": "python",
   "name": "python3"
  },
  "language_info": {
   "codemirror_mode": {
    "name": "ipython",
    "version": 3
   },
   "file_extension": ".py",
   "mimetype": "text/x-python",
   "name": "python",
   "nbconvert_exporter": "python",
   "pygments_lexer": "ipython3",
   "version": "3.10.9"
  }
 },
 "nbformat": 4,
 "nbformat_minor": 2
}
