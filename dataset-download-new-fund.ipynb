{
 "cells": [
  {
   "cell_type": "code",
   "execution_count": 2,
   "metadata": {},
   "outputs": [
    {
     "data": {
      "text/plain": [
       "<module 'DownloadAutomation' from 'c:\\\\Users\\\\danie\\\\Documents\\\\dev-windows\\\\rpa-gui-control\\\\DownloadAutomation.py'>"
      ]
     },
     "execution_count": 2,
     "metadata": {},
     "output_type": "execute_result"
    }
   ],
   "source": [
    "import DownloadAutomation as da\n",
    "import DownloadAutomation\n",
    "from DownloadAutomation import BOS\n",
    "from DownloadAutomation import MOS\n",
    "\n",
    "import importlib\n",
    "importlib.reload(DownloadAutomation)\n",
    "importlib.reload(da)\n"
   ]
  },
  {
   "cell_type": "code",
   "execution_count": 7,
   "metadata": {},
   "outputs": [],
   "source": [
    "funds_nonprofit = ['100001', '100004', '000038', '000039', '000053']"
   ]
  },
  {
   "cell_type": "code",
   "execution_count": 8,
   "metadata": {},
   "outputs": [
    {
     "name": "stdout",
     "output_type": "stream",
     "text": [
      "- step: open menu: 2205\n",
      "- Timeout! Could not find the image 'image-8186-loading.png' within 1 seconds.\n",
      "- is dataset regex 'menu2205-code100001-date20231115-save20231116' at 'C:\\rpa-download-datasets-test' downloaded?\n",
      "- no: 100001 not in C:\\rpa-download-datasets-test\n",
      "- step: set inputs.\n",
      "- step: wait loading...\n",
      "- step: click excel download button.\n",
      "- step: execute Excel.\n",
      "- Timeout! Could not find the image 'excel-caution-popup.png' within 10 seconds.\n",
      "- step: open save as popup.\n",
      "- Timeout! Could not find the image 'image-8186-loading.png' within 1 seconds.\n",
      "- step: input save settings.\n",
      "- Timeout! Could not find the image 'icon-caution-save-as.png' within 1 seconds.\n",
      "- Timeout! Could not find the image 'image-8186-loading.png' within 1 seconds.\n",
      "- is dataset regex 'menu2205-code100001-date20231115-save20231116' at 'C:\\rpa-download-datasets-test' downloaded?\n",
      "- yes: 100001 in C:\\rpa-download-datasets-test\n",
      "- step: terminate Microsoft Excel.\n",
      "- save complete: menu2205-code100001-date20231115-save202311161052.csv in C:\\rpa-download-datasets-test\n",
      "- step: return to home.\n",
      "- step: return to home.\n",
      "- step: open menu: 2205\n",
      "- Timeout! Could not find the image 'image-8186-loading.png' within 1 seconds.\n",
      "- is dataset regex 'menu2205-code100004-date20231115-save20231116' at 'C:\\rpa-download-datasets-test' downloaded?\n",
      "- no: 100004 not in C:\\rpa-download-datasets-test\n",
      "- step: set inputs.\n",
      "- step: wait loading...\n",
      "- step: click excel download button.\n",
      "- step: execute Excel.\n",
      "- Timeout! Could not find the image 'excel-caution-popup.png' within 10 seconds.\n",
      "- step: open save as popup.\n",
      "- Timeout! Could not find the image 'image-8186-loading.png' within 1 seconds.\n",
      "- step: input save settings.\n",
      "- Timeout! Could not find the image 'icon-caution-save-as.png' within 1 seconds.\n",
      "- Timeout! Could not find the image 'image-8186-loading.png' within 1 seconds.\n",
      "- is dataset regex 'menu2205-code100004-date20231115-save20231116' at 'C:\\rpa-download-datasets-test' downloaded?\n",
      "- yes: 100004 in C:\\rpa-download-datasets-test\n",
      "- step: terminate Microsoft Excel.\n",
      "- save complete: menu2205-code100004-date20231115-save202311161054.csv in C:\\rpa-download-datasets-test\n",
      "- step: return to home.\n",
      "- step: return to home.\n",
      "- step: open menu: 2205\n",
      "- Timeout! Could not find the image 'image-8186-loading.png' within 1 seconds.\n",
      "- is dataset regex 'menu2205-code000038-date20231115-save20231116' at 'C:\\rpa-download-datasets-test' downloaded?\n",
      "- no: 000038 not in C:\\rpa-download-datasets-test\n",
      "- step: set inputs.\n",
      "- step: wait loading...\n",
      "- step: click excel download button.\n",
      "- step: execute Excel.\n"
     ]
    },
    {
     "ename": "KeyboardInterrupt",
     "evalue": "",
     "output_type": "error",
     "traceback": [
      "\u001b[1;31m---------------------------------------------------------------------------\u001b[0m",
      "\u001b[1;31mKeyboardInterrupt\u001b[0m                         Traceback (most recent call last)",
      "\u001b[1;32mc:\\Users\\danie\\Documents\\dev-windows\\rpa-gui-control\\dataset-download-new-fund.ipynb Cell 3\u001b[0m line \u001b[0;36m2\n\u001b[0;32m      <a href='vscode-notebook-cell:/c%3A/Users/danie/Documents/dev-windows/rpa-gui-control/dataset-download-new-fund.ipynb#W2sZmlsZQ%3D%3D?line=0'>1</a>\u001b[0m \u001b[39mfor\u001b[39;00m code \u001b[39min\u001b[39;00m funds_nonprofit:\n\u001b[1;32m----> <a href='vscode-notebook-cell:/c%3A/Users/danie/Documents/dev-windows/rpa-gui-control/dataset-download-new-fund.ipynb#W2sZmlsZQ%3D%3D?line=1'>2</a>\u001b[0m     MOS(fund_code\u001b[39m=\u001b[39;49mcode, start_date\u001b[39m=\u001b[39;49m\u001b[39m'\u001b[39;49m\u001b[39m20231101\u001b[39;49m\u001b[39m'\u001b[39;49m, end_date\u001b[39m=\u001b[39;49m\u001b[39m'\u001b[39;49m\u001b[39m20231115\u001b[39;49m\u001b[39m'\u001b[39;49m)\u001b[39m.\u001b[39;49mgoto_menu(\u001b[39m'\u001b[39;49m\u001b[39m2205\u001b[39;49m\u001b[39m'\u001b[39;49m)\u001b[39m.\u001b[39;49mdownload_dataset()\n",
      "File \u001b[1;32mc:\\Users\\danie\\Documents\\dev-windows\\rpa-gui-control\\DownloadAutomation.py:524\u001b[0m, in \u001b[0;36mMOS.download_dataset\u001b[1;34m(self)\u001b[0m\n\u001b[0;32m    518\u001b[0m \u001b[39mdef\u001b[39;00m \u001b[39mdownload_dataset\u001b[39m(\u001b[39mself\u001b[39m):\n\u001b[0;32m    519\u001b[0m     mapping \u001b[39m=\u001b[39m {\n\u001b[0;32m    520\u001b[0m         \u001b[39m'\u001b[39m\u001b[39m2160\u001b[39m\u001b[39m'\u001b[39m: \u001b[39mself\u001b[39m\u001b[39m.\u001b[39mdownload_dataset_2160,\n\u001b[0;32m    521\u001b[0m         \u001b[39m'\u001b[39m\u001b[39m2205\u001b[39m\u001b[39m'\u001b[39m: \u001b[39mself\u001b[39m\u001b[39m.\u001b[39mdownload_dataset_2205,\n\u001b[0;32m    522\u001b[0m         \u001b[39m'\u001b[39m\u001b[39m2820\u001b[39m\u001b[39m'\u001b[39m: \u001b[39mself\u001b[39m\u001b[39m.\u001b[39mdownload_dataset_2820\n\u001b[0;32m    523\u001b[0m     }\n\u001b[1;32m--> 524\u001b[0m     mapping[\u001b[39mself\u001b[39;49m\u001b[39m.\u001b[39;49mmenu_code]()\n",
      "File \u001b[1;32mc:\\Users\\danie\\Documents\\dev-windows\\rpa-gui-control\\DownloadAutomation.py:556\u001b[0m, in \u001b[0;36mMOS.download_dataset_2205\u001b[1;34m(self)\u001b[0m\n\u001b[0;32m    554\u001b[0m control_on_2205_to_set_inputs(\u001b[39mself\u001b[39m\u001b[39m.\u001b[39mfund_code, \u001b[39mself\u001b[39m\u001b[39m.\u001b[39mend_date)\n\u001b[0;32m    555\u001b[0m wait_loading()\n\u001b[1;32m--> 556\u001b[0m control_on_2205_to_excel()\n\u001b[0;32m    557\u001b[0m wait_execution()\n\u001b[0;32m    558\u001b[0m control_on_excel_to_save_as_popup()\n",
      "File \u001b[1;32mc:\\Users\\danie\\Documents\\dev-windows\\rpa-gui-control\\DownloadAutomation.py:431\u001b[0m, in \u001b[0;36mcontrol_on_2205_to_excel\u001b[1;34m()\u001b[0m\n\u001b[0;32m    429\u001b[0m time\u001b[39m.\u001b[39msleep(time_interval_l)\n\u001b[0;32m    430\u001b[0m click(coord_2205_excel_format_popup_button)\n\u001b[1;32m--> 431\u001b[0m cooltime(\u001b[39m15\u001b[39;49m)\n\u001b[0;32m    432\u001b[0m \u001b[39mif\u001b[39;00m is_image_present(\u001b[39m'\u001b[39m\u001b[39mexcel-caution-popup.png\u001b[39m\u001b[39m'\u001b[39m, timeout\u001b[39m=\u001b[39m\u001b[39m10\u001b[39m):\n\u001b[0;32m    433\u001b[0m     click_image(\u001b[39m'\u001b[39m\u001b[39mexcel-caution-confirm.png\u001b[39m\u001b[39m'\u001b[39m)\n",
      "File \u001b[1;32mc:\\Users\\danie\\Documents\\dev-windows\\rpa-gui-control\\DownloadAutomation.py:219\u001b[0m, in \u001b[0;36mcooltime\u001b[1;34m(t)\u001b[0m\n\u001b[0;32m    218\u001b[0m \u001b[39mdef\u001b[39;00m \u001b[39mcooltime\u001b[39m(t\u001b[39m=\u001b[39mtime_cooldown):\n\u001b[1;32m--> 219\u001b[0m     time\u001b[39m.\u001b[39;49msleep(t)\n\u001b[0;32m    220\u001b[0m     \u001b[39mreturn\u001b[39;00m \u001b[39mNone\u001b[39;00m\n",
      "\u001b[1;31mKeyboardInterrupt\u001b[0m: "
     ]
    }
   ],
   "source": [
    "for code in funds_nonprofit:\n",
    "    MOS(fund_code=code, start_date='20231101', end_date='20231115').goto_menu('2205').download_dataset()"
   ]
  },
  {
   "cell_type": "code",
   "execution_count": 10,
   "metadata": {},
   "outputs": [
    {
     "name": "stdout",
     "output_type": "stream",
     "text": [
      "- step: open menu: 2160\n",
      "- Timeout! Could not find the image 'image-8186-loading.png' within 1 seconds.\n",
      "- is dataset regex 'menu2160-code000038-save20231114' at 'C:\\rpa-download-datasets-test' downloaded?\n",
      "- no: 000038 not in C:\\rpa-download-datasets-test\n",
      "- step: set inputs.\n",
      "- step: wait loading...\n",
      "- step: click excel download button.\n",
      "- step: execute Excel.\n",
      "- step: open save as popup.\n",
      "- Timeout! Could not find the image 'image-8186-loading.png' within 1 seconds.\n",
      "- step: input save settings.\n",
      "- Timeout! Could not find the image 'icon-caution-save-as.png' within 1 seconds.\n",
      "- Timeout! Could not find the image 'image-8186-loading.png' within 1 seconds.\n",
      "- is dataset regex 'menu2160-code000038-save20231114' at 'C:\\rpa-download-datasets-test' downloaded?\n",
      "- yes: 000038 in C:\\rpa-download-datasets-test\n",
      "- step: terminate Microsoft Excel.\n",
      "- save complete: menu2160-code000038-save202311141655.csv in C:\\rpa-download-datasets-test\n",
      "- step: return to home.\n",
      "- step: return to home.\n",
      "- step: open menu: 2160\n",
      "- Timeout! Could not find the image 'image-8186-loading.png' within 1 seconds.\n",
      "- is dataset regex 'menu2160-code000039-save20231114' at 'C:\\rpa-download-datasets-test' downloaded?\n",
      "- no: 000039 not in C:\\rpa-download-datasets-test\n",
      "- step: set inputs.\n",
      "- Timeout! Could not find the image 'image-8186-loading.png' within 1 seconds.\n",
      "- step: click excel download button.\n",
      "- step: execute Excel.\n",
      "- step: open save as popup.\n",
      "- Timeout! Could not find the image 'image-8186-loading.png' within 1 seconds.\n",
      "- step: input save settings.\n",
      "- Timeout! Could not find the image 'icon-caution-save-as.png' within 1 seconds.\n",
      "- Timeout! Could not find the image 'image-8186-loading.png' within 1 seconds.\n",
      "- is dataset regex 'menu2160-code000039-save20231114' at 'C:\\rpa-download-datasets-test' downloaded?\n",
      "- yes: 000039 in C:\\rpa-download-datasets-test\n",
      "- step: terminate Microsoft Excel.\n",
      "- save complete: menu2160-code000039-save202311141656.csv in C:\\rpa-download-datasets-test\n",
      "- step: return to home.\n",
      "- step: return to home.\n",
      "- step: open menu: 2160\n",
      "- Timeout! Could not find the image 'image-8186-loading.png' within 1 seconds.\n",
      "- is dataset regex 'menu2160-code000053-save20231114' at 'C:\\rpa-download-datasets-test' downloaded?\n",
      "- no: 000053 not in C:\\rpa-download-datasets-test\n",
      "- step: set inputs.\n",
      "- Timeout! Could not find the image 'image-8186-loading.png' within 1 seconds.\n",
      "- step: click excel download button.\n",
      "- step: execute Excel.\n",
      "- step: open save as popup.\n",
      "- Timeout! Could not find the image 'image-8186-loading.png' within 1 seconds.\n",
      "- step: input save settings.\n",
      "- Timeout! Could not find the image 'icon-caution-save-as.png' within 1 seconds.\n",
      "- Timeout! Could not find the image 'image-8186-loading.png' within 1 seconds.\n",
      "- is dataset regex 'menu2160-code000053-save20231114' at 'C:\\rpa-download-datasets-test' downloaded?\n",
      "- yes: 000053 in C:\\rpa-download-datasets-test\n",
      "- step: terminate Microsoft Excel.\n",
      "- save complete: menu2160-code000053-save202311141657.csv in C:\\rpa-download-datasets-test\n",
      "- step: return to home.\n",
      "- step: return to home.\n"
     ]
    }
   ],
   "source": [
    "for code in funds_nonprofit:\n",
    "    MOS(fund_code=code, start_date='20210101', end_date='20231031').goto_menu('2160').download_dataset()"
   ]
  },
  {
   "cell_type": "code",
   "execution_count": 11,
   "metadata": {},
   "outputs": [
    {
     "name": "stdout",
     "output_type": "stream",
     "text": [
      "- step: open menu: 8186\n",
      "- Timeout! Could not find the image 'image-8186-loading.png' within 1 seconds.\n",
      "- is dataset regex 'menu8186-code000038-save20231114' at 'C:\\rpa-download-datasets-test' downloaded?\n",
      "- no: 000038 not in C:\\rpa-download-datasets-test\n",
      "- step: open fund popup.\n",
      "- Timeout! Could not find the image 'image-8186-loading.png' within 1 seconds.\n",
      "- step: select fund on popup.\n",
      "- step: wait loading...\n",
      "- step: load system dataset.\n",
      "- step: execute Excel.\n",
      "- Timeout! Could not find the image 'excel-caution-popup.png' within 5 seconds.\n",
      "- step: open save as popup.\n",
      "- Timeout! Could not find the image 'image-8186-loading.png' within 1 seconds.\n",
      "- step: input save settings.\n",
      "- Timeout! Could not find the image 'icon-caution-save-as.png' within 1 seconds.\n",
      "- Timeout! Could not find the image 'image-8186-loading.png' within 1 seconds.\n",
      "- is dataset regex 'menu8186-code000038-save20231114' at 'C:\\rpa-download-datasets-test' downloaded?\n",
      "- yes: 000038 in C:\\rpa-download-datasets-test\n",
      "- step: terminate Microsoft Excel.\n",
      "- save complete: menu8186-code000038-save202311141701.csv in C:\\rpa-download-datasets-test\n",
      "- step: return to home.\n",
      "- step: return to home.\n",
      "- step: open menu: 8186\n",
      "- Timeout! Could not find the image 'image-8186-loading.png' within 1 seconds.\n",
      "- is dataset regex 'menu8186-code000039-save20231114' at 'C:\\rpa-download-datasets-test' downloaded?\n",
      "- no: 000039 not in C:\\rpa-download-datasets-test\n",
      "- step: open fund popup.\n",
      "- Timeout! Could not find the image 'image-8186-loading.png' within 1 seconds.\n",
      "- step: select fund on popup.\n",
      "- step: wait loading...\n",
      "- step: load system dataset.\n",
      "- step: execute Excel.\n",
      "- Timeout! Could not find the image 'excel-caution-popup.png' within 5 seconds.\n",
      "- step: open save as popup.\n",
      "- Timeout! Could not find the image 'image-8186-loading.png' within 1 seconds.\n",
      "- step: input save settings.\n",
      "- Timeout! Could not find the image 'icon-caution-save-as.png' within 1 seconds.\n",
      "- Timeout! Could not find the image 'image-8186-loading.png' within 1 seconds.\n",
      "- is dataset regex 'menu8186-code000039-save20231114' at 'C:\\rpa-download-datasets-test' downloaded?\n",
      "- yes: 000039 in C:\\rpa-download-datasets-test\n",
      "- step: terminate Microsoft Excel.\n",
      "- save complete: menu8186-code000039-save202311141703.csv in C:\\rpa-download-datasets-test\n",
      "- step: return to home.\n",
      "- step: return to home.\n",
      "- step: open menu: 8186\n",
      "- Timeout! Could not find the image 'image-8186-loading.png' within 1 seconds.\n",
      "- is dataset regex 'menu8186-code000053-save20231114' at 'C:\\rpa-download-datasets-test' downloaded?\n",
      "- no: 000053 not in C:\\rpa-download-datasets-test\n",
      "- step: open fund popup.\n",
      "- Timeout! Could not find the image 'image-8186-loading.png' within 1 seconds.\n",
      "- step: select fund on popup.\n",
      "- step: wait loading...\n",
      "- step: load system dataset.\n",
      "- step: execute Excel.\n",
      "- Timeout! Could not find the image 'excel-caution-popup.png' within 5 seconds.\n",
      "- step: open save as popup.\n",
      "- Timeout! Could not find the image 'image-8186-loading.png' within 1 seconds.\n",
      "- step: input save settings.\n",
      "- Timeout! Could not find the image 'icon-caution-save-as.png' within 1 seconds.\n",
      "- Timeout! Could not find the image 'image-8186-loading.png' within 1 seconds.\n",
      "- is dataset regex 'menu8186-code000053-save20231114' at 'C:\\rpa-download-datasets-test' downloaded?\n",
      "- yes: 000053 in C:\\rpa-download-datasets-test\n",
      "- step: terminate Microsoft Excel.\n",
      "- save complete: menu8186-code000053-save202311141704.csv in C:\\rpa-download-datasets-test\n",
      "- step: return to home.\n",
      "- step: return to home.\n"
     ]
    }
   ],
   "source": [
    "for code in funds_nonprofit:\n",
    "    BOS(fund_code=code, start_date='20210101', end_date='20231031').goto_menu('8186').download_dataset()"
   ]
  },
  {
   "cell_type": "code",
   "execution_count": 4,
   "metadata": {},
   "outputs": [
    {
     "name": "stdout",
     "output_type": "stream",
     "text": [
      "- step: open menu: 2205\n",
      "- Timeout! Could not find the image 'image-8186-loading.png' within 1 seconds.\n",
      "- is dataset regex 'menu2205-code000045-date20231031-save20231115' at 'C:\\rpa-download-datasets-test' downloaded?\n",
      "- no: 000045 not in C:\\rpa-download-datasets-test\n",
      "- step: set inputs.\n",
      "- step: wait loading...\n",
      "- step: click excel download button.\n",
      "- step: execute Excel.\n",
      "- Timeout! Could not find the image 'excel-caution-popup.png' within 10 seconds.\n",
      "- step: open save as popup.\n",
      "- Timeout! Could not find the image 'image-8186-loading.png' within 1 seconds.\n",
      "- step: input save settings.\n",
      "- Timeout! Could not find the image 'icon-caution-save-as.png' within 1 seconds.\n",
      "- Timeout! Could not find the image 'image-8186-loading.png' within 1 seconds.\n",
      "- is dataset regex 'menu2205-code000045-date20231031-save20231115' at 'C:\\rpa-download-datasets-test' downloaded?\n",
      "- yes: 000045 in C:\\rpa-download-datasets-test\n",
      "- step: terminate Microsoft Excel.\n",
      "- save complete: menu2205-code000045-date20231031-save202311151026.csv in C:\\rpa-download-datasets-test\n",
      "- step: return to home.\n",
      "- step: return to home.\n"
     ]
    }
   ],
   "source": [
    "MOS(fund_code='000045', start_date='20231001', end_date='20231031').goto_menu('2205').download_dataset()\n"
   ]
  },
  {
   "cell_type": "code",
   "execution_count": 5,
   "metadata": {},
   "outputs": [
    {
     "name": "stdout",
     "output_type": "stream",
     "text": [
      "- step: open menu: 2160\n",
      "- Timeout! Could not find the image 'image-8186-loading.png' within 1 seconds.\n",
      "- is dataset regex 'menu2160-code000045-save20231115' at 'C:\\rpa-download-datasets-test' downloaded?\n",
      "- no: 000045 not in C:\\rpa-download-datasets-test\n",
      "- step: set inputs.\n",
      "- step: wait loading...\n",
      "- step: click excel download button.\n",
      "- step: execute Excel.\n",
      "- step: open save as popup.\n",
      "- Timeout! Could not find the image 'image-8186-loading.png' within 1 seconds.\n",
      "- step: input save settings.\n",
      "- Timeout! Could not find the image 'icon-caution-save-as.png' within 1 seconds.\n",
      "- Timeout! Could not find the image 'image-8186-loading.png' within 1 seconds.\n",
      "- is dataset regex 'menu2160-code000045-save20231115' at 'C:\\rpa-download-datasets-test' downloaded?\n",
      "- yes: 000045 in C:\\rpa-download-datasets-test\n",
      "- step: terminate Microsoft Excel.\n",
      "- save complete: menu2160-code000045-save202311151030.csv in C:\\rpa-download-datasets-test\n",
      "- step: return to home.\n",
      "- step: return to home.\n"
     ]
    }
   ],
   "source": [
    "MOS(fund_code='000045', start_date='20210101', end_date='20231031').goto_menu('2160').download_dataset()\n"
   ]
  },
  {
   "cell_type": "code",
   "execution_count": 6,
   "metadata": {},
   "outputs": [
    {
     "name": "stdout",
     "output_type": "stream",
     "text": [
      "- step: open menu: 8186\n",
      "- Timeout! Could not find the image 'image-8186-loading.png' within 1 seconds.\n",
      "- is dataset regex 'menu8186-code000045-save20231115' at 'C:\\rpa-download-datasets-test' downloaded?\n",
      "- no: 000045 not in C:\\rpa-download-datasets-test\n",
      "- step: open fund popup.\n",
      "- Timeout! Could not find the image 'image-8186-loading.png' within 1 seconds.\n",
      "- step: select fund on popup.\n",
      "- step: wait loading...\n",
      "- step: load system dataset.\n",
      "- step: execute Excel.\n",
      "- Timeout! Could not find the image 'excel-caution-popup.png' within 5 seconds.\n",
      "- step: open save as popup.\n",
      "- Timeout! Could not find the image 'image-8186-loading.png' within 1 seconds.\n",
      "- step: input save settings.\n",
      "- Timeout! Could not find the image 'icon-caution-save-as.png' within 1 seconds.\n",
      "- Timeout! Could not find the image 'image-8186-loading.png' within 1 seconds.\n",
      "- is dataset regex 'menu8186-code000045-save20231115' at 'C:\\rpa-download-datasets-test' downloaded?\n",
      "- yes: 000045 in C:\\rpa-download-datasets-test\n",
      "- step: terminate Microsoft Excel.\n",
      "- save complete: menu8186-code000045-save202311151033.csv in C:\\rpa-download-datasets-test\n",
      "- step: return to home.\n",
      "- step: return to home.\n"
     ]
    }
   ],
   "source": [
    "BOS(fund_code='000045', start_date='20210101', end_date='20231031').goto_menu('8186').download_dataset()\n"
   ]
  },
  {
   "cell_type": "code",
   "execution_count": null,
   "metadata": {},
   "outputs": [],
   "source": []
  }
 ],
 "metadata": {
  "kernelspec": {
   "display_name": "base",
   "language": "python",
   "name": "python3"
  },
  "language_info": {
   "codemirror_mode": {
    "name": "ipython",
    "version": 3
   },
   "file_extension": ".py",
   "mimetype": "text/x-python",
   "name": "python",
   "nbconvert_exporter": "python",
   "pygments_lexer": "ipython3",
   "version": "3.10.9"
  }
 },
 "nbformat": 4,
 "nbformat_minor": 2
}
