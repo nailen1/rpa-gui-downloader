{
 "cells": [
  {
   "cell_type": "code",
   "execution_count": 2,
   "metadata": {},
   "outputs": [
    {
     "data": {
      "text/plain": [
       "<module 'DownloadAutomation' from 'c:\\\\Users\\\\danie\\\\Documents\\\\dev-windows\\\\rpa-gui-control\\\\DownloadAutomation.py'>"
      ]
     },
     "execution_count": 2,
     "metadata": {},
     "output_type": "execute_result"
    }
   ],
   "source": [
    "import DownloadAutomation as da\n",
    "import DownloadAutomation\n",
    "from DownloadAutomation import BOS\n",
    "from DownloadAutomation import MOS\n",
    "\n",
    "import importlib\n",
    "importlib.reload(DownloadAutomation)\n",
    "importlib.reload(da)\n"
   ]
  },
  {
   "cell_type": "code",
   "execution_count": 8,
   "metadata": {},
   "outputs": [],
   "source": [
    "funds_nonprofit = ['100001', '100004', '000038', '000039', '000053']"
   ]
  },
  {
   "cell_type": "code",
   "execution_count": 9,
   "metadata": {},
   "outputs": [
    {
     "name": "stdout",
     "output_type": "stream",
     "text": [
      "- step: open menu: 2205\n",
      "- Timeout! Could not find the image 'image-8186-loading.png' within 1 seconds.\n",
      "- is dataset regex 'menu2205-code000038-date20231031-save20231114' at 'C:\\rpa-download-datasets-test' downloaded?\n",
      "- no: 000038 not in C:\\rpa-download-datasets-test\n",
      "- step: set inputs.\n",
      "- step: wait loading...\n",
      "- step: click excel download button.\n",
      "- step: execute Excel.\n",
      "- Timeout! Could not find the image 'excel-caution-popup.png' within 10 seconds.\n",
      "- step: open save as popup.\n",
      "- Timeout! Could not find the image 'image-8186-loading.png' within 1 seconds.\n",
      "- step: input save settings.\n",
      "- Timeout! Could not find the image 'icon-caution-save-as.png' within 1 seconds.\n",
      "- Timeout! Could not find the image 'image-8186-loading.png' within 1 seconds.\n",
      "- is dataset regex 'menu2205-code000038-date20231031-save20231114' at 'C:\\rpa-download-datasets-test' downloaded?\n",
      "- yes: 000038 in C:\\rpa-download-datasets-test\n",
      "- step: terminate Microsoft Excel.\n",
      "- save complete: menu2205-code000038-date20231031-save202311141650.csv in C:\\rpa-download-datasets-test\n",
      "- step: return to home.\n",
      "- step: return to home.\n",
      "- step: open menu: 2205\n",
      "- Timeout! Could not find the image 'image-8186-loading.png' within 1 seconds.\n",
      "- is dataset regex 'menu2205-code000039-date20231031-save20231114' at 'C:\\rpa-download-datasets-test' downloaded?\n",
      "- no: 000039 not in C:\\rpa-download-datasets-test\n",
      "- step: set inputs.\n",
      "- step: wait loading...\n",
      "- step: click excel download button.\n",
      "- step: execute Excel.\n",
      "- Timeout! Could not find the image 'excel-caution-popup.png' within 10 seconds.\n",
      "- step: open save as popup.\n",
      "- Timeout! Could not find the image 'image-8186-loading.png' within 1 seconds.\n",
      "- step: input save settings.\n",
      "- Timeout! Could not find the image 'icon-caution-save-as.png' within 1 seconds.\n",
      "- Timeout! Could not find the image 'image-8186-loading.png' within 1 seconds.\n",
      "- is dataset regex 'menu2205-code000039-date20231031-save20231114' at 'C:\\rpa-download-datasets-test' downloaded?\n",
      "- yes: 000039 in C:\\rpa-download-datasets-test\n",
      "- step: terminate Microsoft Excel.\n",
      "- save complete: menu2205-code000039-date20231031-save202311141651.csv in C:\\rpa-download-datasets-test\n",
      "- step: return to home.\n",
      "- step: return to home.\n",
      "- step: open menu: 2205\n",
      "- Timeout! Could not find the image 'image-8186-loading.png' within 1 seconds.\n",
      "- is dataset regex 'menu2205-code000053-date20231031-save20231114' at 'C:\\rpa-download-datasets-test' downloaded?\n",
      "- no: 000053 not in C:\\rpa-download-datasets-test\n",
      "- step: set inputs.\n",
      "- step: wait loading...\n",
      "- step: click excel download button.\n",
      "- step: execute Excel.\n",
      "- Timeout! Could not find the image 'excel-caution-popup.png' within 10 seconds.\n",
      "- step: open save as popup.\n",
      "- Timeout! Could not find the image 'image-8186-loading.png' within 1 seconds.\n",
      "- step: input save settings.\n",
      "- Timeout! Could not find the image 'icon-caution-save-as.png' within 1 seconds.\n",
      "- Timeout! Could not find the image 'image-8186-loading.png' within 1 seconds.\n",
      "- is dataset regex 'menu2205-code000053-date20231031-save20231114' at 'C:\\rpa-download-datasets-test' downloaded?\n",
      "- yes: 000053 in C:\\rpa-download-datasets-test\n",
      "- step: terminate Microsoft Excel.\n",
      "- save complete: menu2205-code000053-date20231031-save202311141653.csv in C:\\rpa-download-datasets-test\n",
      "- step: return to home.\n",
      "- step: return to home.\n"
     ]
    }
   ],
   "source": [
    "for code in funds_nonprofit:\n",
    "    MOS(fund_code=code, start_date='20231101', end_date='20231115').goto_menu('2205').download_dataset()"
   ]
  },
  {
   "cell_type": "code",
   "execution_count": 10,
   "metadata": {},
   "outputs": [
    {
     "name": "stdout",
     "output_type": "stream",
     "text": [
      "- step: open menu: 2160\n",
      "- Timeout! Could not find the image 'image-8186-loading.png' within 1 seconds.\n",
      "- is dataset regex 'menu2160-code000038-save20231114' at 'C:\\rpa-download-datasets-test' downloaded?\n",
      "- no: 000038 not in C:\\rpa-download-datasets-test\n",
      "- step: set inputs.\n",
      "- step: wait loading...\n",
      "- step: click excel download button.\n",
      "- step: execute Excel.\n",
      "- step: open save as popup.\n",
      "- Timeout! Could not find the image 'image-8186-loading.png' within 1 seconds.\n",
      "- step: input save settings.\n",
      "- Timeout! Could not find the image 'icon-caution-save-as.png' within 1 seconds.\n",
      "- Timeout! Could not find the image 'image-8186-loading.png' within 1 seconds.\n",
      "- is dataset regex 'menu2160-code000038-save20231114' at 'C:\\rpa-download-datasets-test' downloaded?\n",
      "- yes: 000038 in C:\\rpa-download-datasets-test\n",
      "- step: terminate Microsoft Excel.\n",
      "- save complete: menu2160-code000038-save202311141655.csv in C:\\rpa-download-datasets-test\n",
      "- step: return to home.\n",
      "- step: return to home.\n",
      "- step: open menu: 2160\n",
      "- Timeout! Could not find the image 'image-8186-loading.png' within 1 seconds.\n",
      "- is dataset regex 'menu2160-code000039-save20231114' at 'C:\\rpa-download-datasets-test' downloaded?\n",
      "- no: 000039 not in C:\\rpa-download-datasets-test\n",
      "- step: set inputs.\n",
      "- Timeout! Could not find the image 'image-8186-loading.png' within 1 seconds.\n",
      "- step: click excel download button.\n",
      "- step: execute Excel.\n",
      "- step: open save as popup.\n",
      "- Timeout! Could not find the image 'image-8186-loading.png' within 1 seconds.\n",
      "- step: input save settings.\n",
      "- Timeout! Could not find the image 'icon-caution-save-as.png' within 1 seconds.\n",
      "- Timeout! Could not find the image 'image-8186-loading.png' within 1 seconds.\n",
      "- is dataset regex 'menu2160-code000039-save20231114' at 'C:\\rpa-download-datasets-test' downloaded?\n",
      "- yes: 000039 in C:\\rpa-download-datasets-test\n",
      "- step: terminate Microsoft Excel.\n",
      "- save complete: menu2160-code000039-save202311141656.csv in C:\\rpa-download-datasets-test\n",
      "- step: return to home.\n",
      "- step: return to home.\n",
      "- step: open menu: 2160\n",
      "- Timeout! Could not find the image 'image-8186-loading.png' within 1 seconds.\n",
      "- is dataset regex 'menu2160-code000053-save20231114' at 'C:\\rpa-download-datasets-test' downloaded?\n",
      "- no: 000053 not in C:\\rpa-download-datasets-test\n",
      "- step: set inputs.\n",
      "- Timeout! Could not find the image 'image-8186-loading.png' within 1 seconds.\n",
      "- step: click excel download button.\n",
      "- step: execute Excel.\n",
      "- step: open save as popup.\n",
      "- Timeout! Could not find the image 'image-8186-loading.png' within 1 seconds.\n",
      "- step: input save settings.\n",
      "- Timeout! Could not find the image 'icon-caution-save-as.png' within 1 seconds.\n",
      "- Timeout! Could not find the image 'image-8186-loading.png' within 1 seconds.\n",
      "- is dataset regex 'menu2160-code000053-save20231114' at 'C:\\rpa-download-datasets-test' downloaded?\n",
      "- yes: 000053 in C:\\rpa-download-datasets-test\n",
      "- step: terminate Microsoft Excel.\n",
      "- save complete: menu2160-code000053-save202311141657.csv in C:\\rpa-download-datasets-test\n",
      "- step: return to home.\n",
      "- step: return to home.\n"
     ]
    }
   ],
   "source": [
    "for code in funds_nonprofit:\n",
    "    MOS(fund_code=code, start_date='20210101', end_date='20231031').goto_menu('2160').download_dataset()"
   ]
  },
  {
   "cell_type": "code",
   "execution_count": 11,
   "metadata": {},
   "outputs": [
    {
     "name": "stdout",
     "output_type": "stream",
     "text": [
      "- step: open menu: 8186\n",
      "- Timeout! Could not find the image 'image-8186-loading.png' within 1 seconds.\n",
      "- is dataset regex 'menu8186-code000038-save20231114' at 'C:\\rpa-download-datasets-test' downloaded?\n",
      "- no: 000038 not in C:\\rpa-download-datasets-test\n",
      "- step: open fund popup.\n",
      "- Timeout! Could not find the image 'image-8186-loading.png' within 1 seconds.\n",
      "- step: select fund on popup.\n",
      "- step: wait loading...\n",
      "- step: load system dataset.\n",
      "- step: execute Excel.\n",
      "- Timeout! Could not find the image 'excel-caution-popup.png' within 5 seconds.\n",
      "- step: open save as popup.\n",
      "- Timeout! Could not find the image 'image-8186-loading.png' within 1 seconds.\n",
      "- step: input save settings.\n",
      "- Timeout! Could not find the image 'icon-caution-save-as.png' within 1 seconds.\n",
      "- Timeout! Could not find the image 'image-8186-loading.png' within 1 seconds.\n",
      "- is dataset regex 'menu8186-code000038-save20231114' at 'C:\\rpa-download-datasets-test' downloaded?\n",
      "- yes: 000038 in C:\\rpa-download-datasets-test\n",
      "- step: terminate Microsoft Excel.\n",
      "- save complete: menu8186-code000038-save202311141701.csv in C:\\rpa-download-datasets-test\n",
      "- step: return to home.\n",
      "- step: return to home.\n",
      "- step: open menu: 8186\n",
      "- Timeout! Could not find the image 'image-8186-loading.png' within 1 seconds.\n",
      "- is dataset regex 'menu8186-code000039-save20231114' at 'C:\\rpa-download-datasets-test' downloaded?\n",
      "- no: 000039 not in C:\\rpa-download-datasets-test\n",
      "- step: open fund popup.\n",
      "- Timeout! Could not find the image 'image-8186-loading.png' within 1 seconds.\n",
      "- step: select fund on popup.\n",
      "- step: wait loading...\n",
      "- step: load system dataset.\n",
      "- step: execute Excel.\n",
      "- Timeout! Could not find the image 'excel-caution-popup.png' within 5 seconds.\n",
      "- step: open save as popup.\n",
      "- Timeout! Could not find the image 'image-8186-loading.png' within 1 seconds.\n",
      "- step: input save settings.\n",
      "- Timeout! Could not find the image 'icon-caution-save-as.png' within 1 seconds.\n",
      "- Timeout! Could not find the image 'image-8186-loading.png' within 1 seconds.\n",
      "- is dataset regex 'menu8186-code000039-save20231114' at 'C:\\rpa-download-datasets-test' downloaded?\n",
      "- yes: 000039 in C:\\rpa-download-datasets-test\n",
      "- step: terminate Microsoft Excel.\n",
      "- save complete: menu8186-code000039-save202311141703.csv in C:\\rpa-download-datasets-test\n",
      "- step: return to home.\n",
      "- step: return to home.\n",
      "- step: open menu: 8186\n",
      "- Timeout! Could not find the image 'image-8186-loading.png' within 1 seconds.\n",
      "- is dataset regex 'menu8186-code000053-save20231114' at 'C:\\rpa-download-datasets-test' downloaded?\n",
      "- no: 000053 not in C:\\rpa-download-datasets-test\n",
      "- step: open fund popup.\n",
      "- Timeout! Could not find the image 'image-8186-loading.png' within 1 seconds.\n",
      "- step: select fund on popup.\n",
      "- step: wait loading...\n",
      "- step: load system dataset.\n",
      "- step: execute Excel.\n",
      "- Timeout! Could not find the image 'excel-caution-popup.png' within 5 seconds.\n",
      "- step: open save as popup.\n",
      "- Timeout! Could not find the image 'image-8186-loading.png' within 1 seconds.\n",
      "- step: input save settings.\n",
      "- Timeout! Could not find the image 'icon-caution-save-as.png' within 1 seconds.\n",
      "- Timeout! Could not find the image 'image-8186-loading.png' within 1 seconds.\n",
      "- is dataset regex 'menu8186-code000053-save20231114' at 'C:\\rpa-download-datasets-test' downloaded?\n",
      "- yes: 000053 in C:\\rpa-download-datasets-test\n",
      "- step: terminate Microsoft Excel.\n",
      "- save complete: menu8186-code000053-save202311141704.csv in C:\\rpa-download-datasets-test\n",
      "- step: return to home.\n",
      "- step: return to home.\n"
     ]
    }
   ],
   "source": [
    "for code in funds_nonprofit:\n",
    "    BOS(fund_code=code, start_date='20210101', end_date='20231031').goto_menu('8186').download_dataset()"
   ]
  },
  {
   "cell_type": "code",
   "execution_count": 4,
   "metadata": {},
   "outputs": [
    {
     "name": "stdout",
     "output_type": "stream",
     "text": [
      "- step: open menu: 2205\n",
      "- Timeout! Could not find the image 'image-8186-loading.png' within 1 seconds.\n",
      "- is dataset regex 'menu2205-code000045-date20231031-save20231115' at 'C:\\rpa-download-datasets-test' downloaded?\n",
      "- no: 000045 not in C:\\rpa-download-datasets-test\n",
      "- step: set inputs.\n",
      "- step: wait loading...\n",
      "- step: click excel download button.\n",
      "- step: execute Excel.\n",
      "- Timeout! Could not find the image 'excel-caution-popup.png' within 10 seconds.\n",
      "- step: open save as popup.\n",
      "- Timeout! Could not find the image 'image-8186-loading.png' within 1 seconds.\n",
      "- step: input save settings.\n",
      "- Timeout! Could not find the image 'icon-caution-save-as.png' within 1 seconds.\n",
      "- Timeout! Could not find the image 'image-8186-loading.png' within 1 seconds.\n",
      "- is dataset regex 'menu2205-code000045-date20231031-save20231115' at 'C:\\rpa-download-datasets-test' downloaded?\n",
      "- yes: 000045 in C:\\rpa-download-datasets-test\n",
      "- step: terminate Microsoft Excel.\n",
      "- save complete: menu2205-code000045-date20231031-save202311151026.csv in C:\\rpa-download-datasets-test\n",
      "- step: return to home.\n",
      "- step: return to home.\n"
     ]
    }
   ],
   "source": [
    "MOS(fund_code='000045', start_date='20231001', end_date='20231031').goto_menu('2205').download_dataset()\n"
   ]
  },
  {
   "cell_type": "code",
   "execution_count": 5,
   "metadata": {},
   "outputs": [
    {
     "name": "stdout",
     "output_type": "stream",
     "text": [
      "- step: open menu: 2160\n",
      "- Timeout! Could not find the image 'image-8186-loading.png' within 1 seconds.\n",
      "- is dataset regex 'menu2160-code000045-save20231115' at 'C:\\rpa-download-datasets-test' downloaded?\n",
      "- no: 000045 not in C:\\rpa-download-datasets-test\n",
      "- step: set inputs.\n",
      "- step: wait loading...\n",
      "- step: click excel download button.\n",
      "- step: execute Excel.\n",
      "- step: open save as popup.\n",
      "- Timeout! Could not find the image 'image-8186-loading.png' within 1 seconds.\n",
      "- step: input save settings.\n",
      "- Timeout! Could not find the image 'icon-caution-save-as.png' within 1 seconds.\n",
      "- Timeout! Could not find the image 'image-8186-loading.png' within 1 seconds.\n",
      "- is dataset regex 'menu2160-code000045-save20231115' at 'C:\\rpa-download-datasets-test' downloaded?\n",
      "- yes: 000045 in C:\\rpa-download-datasets-test\n",
      "- step: terminate Microsoft Excel.\n",
      "- save complete: menu2160-code000045-save202311151030.csv in C:\\rpa-download-datasets-test\n",
      "- step: return to home.\n",
      "- step: return to home.\n"
     ]
    }
   ],
   "source": [
    "MOS(fund_code='000045', start_date='20210101', end_date='20231031').goto_menu('2160').download_dataset()\n"
   ]
  },
  {
   "cell_type": "code",
   "execution_count": 6,
   "metadata": {},
   "outputs": [
    {
     "name": "stdout",
     "output_type": "stream",
     "text": [
      "- step: open menu: 8186\n",
      "- Timeout! Could not find the image 'image-8186-loading.png' within 1 seconds.\n",
      "- is dataset regex 'menu8186-code000045-save20231115' at 'C:\\rpa-download-datasets-test' downloaded?\n",
      "- no: 000045 not in C:\\rpa-download-datasets-test\n",
      "- step: open fund popup.\n",
      "- Timeout! Could not find the image 'image-8186-loading.png' within 1 seconds.\n",
      "- step: select fund on popup.\n",
      "- step: wait loading...\n",
      "- step: load system dataset.\n",
      "- step: execute Excel.\n",
      "- Timeout! Could not find the image 'excel-caution-popup.png' within 5 seconds.\n",
      "- step: open save as popup.\n",
      "- Timeout! Could not find the image 'image-8186-loading.png' within 1 seconds.\n",
      "- step: input save settings.\n",
      "- Timeout! Could not find the image 'icon-caution-save-as.png' within 1 seconds.\n",
      "- Timeout! Could not find the image 'image-8186-loading.png' within 1 seconds.\n",
      "- is dataset regex 'menu8186-code000045-save20231115' at 'C:\\rpa-download-datasets-test' downloaded?\n",
      "- yes: 000045 in C:\\rpa-download-datasets-test\n",
      "- step: terminate Microsoft Excel.\n",
      "- save complete: menu8186-code000045-save202311151033.csv in C:\\rpa-download-datasets-test\n",
      "- step: return to home.\n",
      "- step: return to home.\n"
     ]
    }
   ],
   "source": [
    "BOS(fund_code='000045', start_date='20210101', end_date='20231031').goto_menu('8186').download_dataset()\n"
   ]
  },
  {
   "cell_type": "code",
   "execution_count": null,
   "metadata": {},
   "outputs": [],
   "source": []
  }
 ],
 "metadata": {
  "kernelspec": {
   "display_name": "base",
   "language": "python",
   "name": "python3"
  },
  "language_info": {
   "codemirror_mode": {
    "name": "ipython",
    "version": 3
   },
   "file_extension": ".py",
   "mimetype": "text/x-python",
   "name": "python",
   "nbconvert_exporter": "python",
   "pygments_lexer": "ipython3",
   "version": "3.10.9"
  }
 },
 "nbformat": 4,
 "nbformat_minor": 2
}
