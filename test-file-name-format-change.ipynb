{
 "cells": [
  {
   "cell_type": "code",
   "execution_count": 81,
   "metadata": {},
   "outputs": [
    {
     "data": {
      "text/plain": [
       "<module 'DownloadAutomationRE' from 'c:\\\\Users\\\\danie\\\\Documents\\\\dev-windows\\\\rpa-gui-control\\\\DownloadAutomationRE.py'>"
      ]
     },
     "execution_count": 81,
     "metadata": {},
     "output_type": "execute_result"
    }
   ],
   "source": [
    "import DownloadAutomationRE\n",
    "from DownloadAutomationRE import *\n",
    "import importlib\n",
    "importlib.reload(DownloadAutomationRE)"
   ]
  },
  {
   "cell_type": "code",
   "execution_count": 82,
   "metadata": {},
   "outputs": [
    {
     "name": "stdout",
     "output_type": "stream",
     "text": [
      "- Folder 'C:\\Users\\danie\\Documents\\DA-dataset-20240202' already exists.\n",
      "- step: open menu: 2160\n",
      "- Could not find the image './image\\image-8186-loading.png'. Assuming it is not present.\n",
      "Loading image is not present on the screen.\n",
      "- is dataset regex 'menu2160-code000051-to20240131-save20240202' at 'C:\\Users\\danie\\Documents\\DA-dataset-20240202' downloaded?\n",
      "- no: 000051 not in C:\\Users\\danie\\Documents\\DA-dataset-20240202\n",
      "- step: set inputs.\n",
      "- step: wait loading...\n",
      "Loading image not found on the screen, assuming loading is complete.\n",
      "- step: click excel download button.\n",
      "Loading image not found on the screen, assuming loading is complete.\n",
      "- step: execute Excel.\n",
      "- step: open save as popup.\n",
      "- Could not find the image './image\\image-8186-loading.png'. Assuming it is not present.\n",
      "Loading image is not present on the screen.\n",
      "- step: input save settings.\n",
      "- Could not find the image 'icon-caution-save-as.png'. Assuming it is not present.\n",
      "- Could not find the image './image\\image-8186-loading.png'. Assuming it is not present.\n",
      "Loading image is not present on the screen.\n",
      "- is dataset regex 'menu2160-code000051-to20240131-save20240202' at 'C:\\Users\\danie\\Documents\\DA-dataset-20240202' downloaded?\n",
      "- yes: 000051 in C:\\Users\\danie\\Documents\\DA-dataset-20240202\n",
      "- step: terminate Microsoft Excel.\n",
      "- save complete: menu2160-code000051-to20240131-save20240202.csv in C:\\Users\\danie\\Documents\\DA-dataset-20240202\n",
      "- step: return to home.\n",
      "- step: return to home.\n",
      "- Folder 'C:\\Users\\danie\\Documents\\DA-dataset-20240202' already exists.\n",
      "- step: open menu: 2160\n",
      "- Could not find the image './image\\image-8186-loading.png'. Assuming it is not present.\n",
      "Loading image is not present on the screen.\n",
      "- is dataset regex 'menu2160-code000052-to20240131-save20240202' at 'C:\\Users\\danie\\Documents\\DA-dataset-20240202' downloaded?\n",
      "- no: 000052 not in C:\\Users\\danie\\Documents\\DA-dataset-20240202\n",
      "- step: set inputs.\n",
      "- step: wait loading...\n"
     ]
    },
    {
     "ename": "KeyboardInterrupt",
     "evalue": "",
     "output_type": "error",
     "traceback": [
      "\u001b[1;31m---------------------------------------------------------------------------\u001b[0m",
      "\u001b[1;31mKeyboardInterrupt\u001b[0m                         Traceback (most recent call last)",
      "Cell \u001b[1;32mIn[82], line 3\u001b[0m\n\u001b[0;32m      1\u001b[0m \u001b[38;5;28;01mfor\u001b[39;00m code \u001b[38;5;129;01min\u001b[39;00m fund_codes:\n\u001b[0;32m      2\u001b[0m     mos \u001b[38;5;241m=\u001b[39m MOS(fund_code\u001b[38;5;241m=\u001b[39mcode, start_date\u001b[38;5;241m=\u001b[39m\u001b[38;5;124m'\u001b[39m\u001b[38;5;124m20210101\u001b[39m\u001b[38;5;124m'\u001b[39m, end_date\u001b[38;5;241m=\u001b[39m\u001b[38;5;124m'\u001b[39m\u001b[38;5;124m20240131\u001b[39m\u001b[38;5;124m'\u001b[39m)\n\u001b[1;32m----> 3\u001b[0m     mos\u001b[38;5;241m.\u001b[39mgoto_menu(\u001b[38;5;124m'\u001b[39m\u001b[38;5;124m2160\u001b[39m\u001b[38;5;124m'\u001b[39m)\u001b[38;5;241m.\u001b[39mdownload_dataset()\n",
      "File \u001b[1;32mc:\\Users\\danie\\Documents\\dev-windows\\rpa-gui-control\\DownloadAutomationRE.py:634\u001b[0m, in \u001b[0;36mMOS.download_dataset\u001b[1;34m(self)\u001b[0m\n\u001b[0;32m    627\u001b[0m \u001b[38;5;28;01mdef\u001b[39;00m \u001b[38;5;21mdownload_dataset\u001b[39m(\u001b[38;5;28mself\u001b[39m):\n\u001b[0;32m    628\u001b[0m     mapping \u001b[38;5;241m=\u001b[39m {\n\u001b[0;32m    629\u001b[0m         \u001b[38;5;124m'\u001b[39m\u001b[38;5;124m2160\u001b[39m\u001b[38;5;124m'\u001b[39m: \u001b[38;5;28mself\u001b[39m\u001b[38;5;241m.\u001b[39mdownload_dataset_2160,\n\u001b[0;32m    630\u001b[0m         \u001b[38;5;124m'\u001b[39m\u001b[38;5;124m2205\u001b[39m\u001b[38;5;124m'\u001b[39m: \u001b[38;5;28mself\u001b[39m\u001b[38;5;241m.\u001b[39mdownload_dataset_2205,\n\u001b[0;32m    631\u001b[0m         \u001b[38;5;66;03m# '2305': self.download_dataset_2305,\u001b[39;00m\n\u001b[0;32m    632\u001b[0m         \u001b[38;5;124m'\u001b[39m\u001b[38;5;124m2820\u001b[39m\u001b[38;5;124m'\u001b[39m: \u001b[38;5;28mself\u001b[39m\u001b[38;5;241m.\u001b[39mdownload_dataset_2820\n\u001b[0;32m    633\u001b[0m     }\n\u001b[1;32m--> 634\u001b[0m     mapping[\u001b[38;5;28mself\u001b[39m\u001b[38;5;241m.\u001b[39mmenu_code]()\n",
      "File \u001b[1;32mc:\\Users\\danie\\Documents\\dev-windows\\rpa-gui-control\\DownloadAutomationRE.py:645\u001b[0m, in \u001b[0;36mMOS.download_dataset_2160\u001b[1;34m(self)\u001b[0m\n\u001b[0;32m    643\u001b[0m \u001b[38;5;28;01melse\u001b[39;00m:\n\u001b[0;32m    644\u001b[0m     control_on_2160_to_set_inputs(\u001b[38;5;28mself\u001b[39m\u001b[38;5;241m.\u001b[39mfund_code, \u001b[38;5;28mself\u001b[39m\u001b[38;5;241m.\u001b[39mstart_date, \u001b[38;5;28mself\u001b[39m\u001b[38;5;241m.\u001b[39mend_date)\n\u001b[1;32m--> 645\u001b[0m     wait_loading()\n\u001b[0;32m    646\u001b[0m     control_on_2160_to_excel()\n\u001b[0;32m    647\u001b[0m     wait_execution()\n",
      "File \u001b[1;32mc:\\Users\\danie\\Documents\\dev-windows\\rpa-gui-control\\DownloadAutomationRE.py:272\u001b[0m, in \u001b[0;36mwait_loading\u001b[1;34m()\u001b[0m\n\u001b[0;32m    270\u001b[0m \u001b[38;5;28;01mif\u001b[39;00m is_image_present(image_path, timeout\u001b[38;5;241m=\u001b[39m\u001b[38;5;241m1\u001b[39m):\n\u001b[0;32m    271\u001b[0m     \u001b[38;5;28mprint\u001b[39m(\u001b[38;5;124m'\u001b[39m\u001b[38;5;124m- step: wait loading...\u001b[39m\u001b[38;5;124m'\u001b[39m)\n\u001b[1;32m--> 272\u001b[0m     \u001b[38;5;28;01mif\u001b[39;00m wait_for_loading_to_disappear(image_path, timeout\u001b[38;5;241m=\u001b[39m\u001b[38;5;241m300\u001b[39m):\n\u001b[0;32m    273\u001b[0m         \u001b[38;5;28;01mreturn\u001b[39;00m \u001b[38;5;28;01mTrue\u001b[39;00m\n\u001b[0;32m    274\u001b[0m     \u001b[38;5;28;01melse\u001b[39;00m:\n",
      "File \u001b[1;32mc:\\Users\\danie\\Documents\\dev-windows\\rpa-gui-control\\DownloadAutomationRE.py:196\u001b[0m, in \u001b[0;36mwait_for_loading_to_disappear\u001b[1;34m(image_path, timeout)\u001b[0m\n\u001b[0;32m    193\u001b[0m     \u001b[38;5;28;01mreturn\u001b[39;00m \u001b[38;5;28;01mTrue\u001b[39;00m  \u001b[38;5;66;03m# 이미지를 찾지 못하는 예외 발생 시, 로딩이 완료된 것으로 가정하고 함수 종료\u001b[39;00m\n\u001b[0;32m    195\u001b[0m \u001b[38;5;66;03m# 로딩 화면이 화면에 있으면 잠시 대기 후 다시 확인\u001b[39;00m\n\u001b[1;32m--> 196\u001b[0m time\u001b[38;5;241m.\u001b[39msleep(\u001b[38;5;241m1\u001b[39m)\n",
      "\u001b[1;31mKeyboardInterrupt\u001b[0m: "
     ]
    }
   ],
   "source": [
    "for i, code in enumerate(fund_codes):\n",
    "    print(f'{i}/{len(fund_codes)}')\n",
    "    mos = MOS(fund_code=code, start_date='20210101', end_date='20240131')\n",
    "    mos.goto_menu('2160').download_dataset()"
   ]
  },
  {
   "cell_type": "code",
   "execution_count": 74,
   "metadata": {},
   "outputs": [
    {
     "name": "stdout",
     "output_type": "stream",
     "text": [
      "- Folder 'C:\\Users\\danie\\Documents\\DA-dataset-20240202' already exists.\n"
     ]
    }
   ],
   "source": [
    "mos = MOS(fund_code='100004', start_date='20210101', end_date='20240131')"
   ]
  },
  {
   "cell_type": "code",
   "execution_count": 76,
   "metadata": {},
   "outputs": [
    {
     "name": "stdout",
     "output_type": "stream",
     "text": [
      "- step: open menu: 2160\n",
      "- Could not find the image './image\\image-8186-loading.png'. Assuming it is not present.\n",
      "Loading image is not present on the screen.\n",
      "- is dataset regex 'menu2160-code100004-to20240131-save20240202' at 'C:\\Users\\danie\\Documents\\DA-dataset-20240202' downloaded?\n",
      "- yes: 100004 in C:\\Users\\danie\\Documents\\DA-dataset-20240202\n",
      "- Microsoft Excel is not in process.\n"
     ]
    }
   ],
   "source": [
    "mos.goto_menu('2160').download_dataset()"
   ]
  },
  {
   "cell_type": "code",
   "execution_count": 77,
   "metadata": {},
   "outputs": [
    {
     "name": "stdout",
     "output_type": "stream",
     "text": [
      "- Folder 'C:\\Users\\danie\\Documents\\DA-dataset-20240202' already exists.\n"
     ]
    }
   ],
   "source": [
    "mos = MOS(fund_code='100019', start_date='20210101', end_date='20240131')"
   ]
  },
  {
   "cell_type": "code",
   "execution_count": 78,
   "metadata": {},
   "outputs": [
    {
     "name": "stdout",
     "output_type": "stream",
     "text": [
      "- step: open menu: 2160\n",
      "- Could not find the image './image\\image-8186-loading.png'. Assuming it is not present.\n",
      "Loading image is not present on the screen.\n",
      "- is dataset regex 'menu2160-code100019-to20240131-save20240202' at 'C:\\Users\\danie\\Documents\\DA-dataset-20240202' downloaded?\n",
      "- no: 100019 not in C:\\Users\\danie\\Documents\\DA-dataset-20240202\n",
      "- step: set inputs.\n",
      "- step: wait loading...\n",
      "Loading image not found on the screen, assuming loading is complete.\n",
      "- step: click excel download button.\n",
      "Loading image not found on the screen, assuming loading is complete.\n",
      "- step: execute Excel.\n",
      "- step: open save as popup.\n",
      "- Could not find the image './image\\image-8186-loading.png'. Assuming it is not present.\n",
      "Loading image is not present on the screen.\n",
      "- step: input save settings.\n",
      "- Could not find the image 'icon-caution-save-as.png'. Assuming it is not present.\n",
      "- Could not find the image './image\\image-8186-loading.png'. Assuming it is not present.\n",
      "Loading image is not present on the screen.\n",
      "- is dataset regex 'menu2160-code100019-to20240131-save20240202' at 'C:\\Users\\danie\\Documents\\DA-dataset-20240202' downloaded?\n",
      "- yes: 100019 in C:\\Users\\danie\\Documents\\DA-dataset-20240202\n",
      "- step: terminate Microsoft Excel.\n",
      "- save complete: menu2160-code100019-to20240131-save20240202.csv in C:\\Users\\danie\\Documents\\DA-dataset-20240202\n",
      "- step: return to home.\n",
      "- step: return to home.\n"
     ]
    }
   ],
   "source": [
    "mos.goto_menu('2160').download_dataset()"
   ]
  },
  {
   "cell_type": "code",
   "execution_count": null,
   "metadata": {},
   "outputs": [],
   "source": []
  }
 ],
 "metadata": {
  "kernelspec": {
   "display_name": "base",
   "language": "python",
   "name": "python3"
  },
  "language_info": {
   "codemirror_mode": {
    "name": "ipython",
    "version": 3
   },
   "file_extension": ".py",
   "mimetype": "text/x-python",
   "name": "python",
   "nbconvert_exporter": "python",
   "pygments_lexer": "ipython3",
   "version": "3.11.5"
  }
 },
 "nbformat": 4,
 "nbformat_minor": 2
}
