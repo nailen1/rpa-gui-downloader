{
 "cells": [
  {
   "cell_type": "code",
   "execution_count": 3,
   "metadata": {},
   "outputs": [],
   "source": [
    "import os"
   ]
  },
  {
   "cell_type": "code",
   "execution_count": 2,
   "metadata": {},
   "outputs": [],
   "source": [
    "fund_codes_october = [\n",
    "    \"000051\", \"000052\", \"100001\", \"100004\", \"100008\", \"100019\", \"100030\",\n",
    "    \"100038\", \"100042\", \"100050\", \"100056\", \"100059\", \"100060\", \"100065\",\n",
    "    \"100066\", \"100069\", \"100073\", \"100077\", \"100078\", \"100079\", \"805701\",\n",
    "    \"805702\", \"805703\", \"805704\", \"A00001\", \"A00002\", \"A00003\", \"A00004\", \"A00005\"\n",
    "]\n",
    "start_date_default = '20210101'\n",
    "end_date_october = '20231031'\n"
   ]
  },
  {
   "cell_type": "code",
   "execution_count": 4,
   "metadata": {},
   "outputs": [],
   "source": [
    "def is_dataset_downloaded(menu_code, fund_code, input_date, save_date_yyyymmdd, save_folder_path):\n",
    "    file_name_with_input_date = f'menu{menu_code}-code{fund_code}-save{save_date_yyyymmdd}.csv'\n",
    "    file_name_without_input_date = f'menu{menu_code}-code{fund_code}-date{input_date}-save{save_date_yyyymmdd}.csv'\n",
    "    mapping = {\n",
    "        '8186': file_name_without_input_date,\n",
    "        '2160': file_name_without_input_date,\n",
    "        '2205': file_name_with_input_date\n",
    "    }\n",
    "    \n",
    "    file_name = mapping[menu_code]\n",
    "    file_path = os.path.join(save_folder_path, file_name)\n",
    "    if os.path.exists(file_path):\n",
    "        print(f'- check: {file_name} in {save_folder_path}')\n",
    "        return True\n",
    "    else:\n",
    "        print(f'- check: {file_name} in {save_folder_path}')\n",
    "        return False\n"
   ]
  },
  {
   "cell_type": "code",
   "execution_count": null,
   "metadata": {},
   "outputs": [],
   "source": []
  }
 ],
 "metadata": {
  "kernelspec": {
   "display_name": "base",
   "language": "python",
   "name": "python3"
  },
  "language_info": {
   "codemirror_mode": {
    "name": "ipython",
    "version": 3
   },
   "file_extension": ".py",
   "mimetype": "text/x-python",
   "name": "python",
   "nbconvert_exporter": "python",
   "pygments_lexer": "ipython3",
   "version": "3.11.3"
  },
  "orig_nbformat": 4
 },
 "nbformat": 4,
 "nbformat_minor": 2
}
