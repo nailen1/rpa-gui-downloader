{
 "cells": [
  {
   "cell_type": "code",
   "execution_count": 5,
   "metadata": {},
   "outputs": [],
   "source": [
    "import os"
   ]
  },
  {
   "cell_type": "code",
   "execution_count": 30,
   "metadata": {},
   "outputs": [
    {
     "data": {
      "text/plain": [
       "0"
      ]
     },
     "execution_count": 30,
     "metadata": {},
     "output_type": "execute_result"
    }
   ],
   "source": [
    "os.system(\"taskkill /im EXCEL.EXE /f\")"
   ]
  },
  {
   "cell_type": "code",
   "execution_count": 6,
   "metadata": {},
   "outputs": [],
   "source": [
    "fund_codes_october = [\n",
    "    \"000051\", \"000052\", \"100001\", \"100004\", \"100008\", \"100019\", \"100030\",\n",
    "    \"100038\", \"100042\", \"100050\", \"100056\", \"100059\", \"100060\", \"100065\",\n",
    "    \"100066\", \"100069\", \"100073\", \"100077\", \"100078\", \"100079\", \"805701\",\n",
    "    \"805702\", \"805703\", \"805704\", \"A00001\", \"A00002\", \"A00003\", \"A00004\", \"A00005\"\n",
    "]\n",
    "start_date_default = '20210101'\n",
    "end_date_october = '20231031'\n"
   ]
  },
  {
   "cell_type": "code",
   "execution_count": 10,
   "metadata": {},
   "outputs": [],
   "source": [
    "import re\n",
    "def scan_files_including_regex(file_folder, regex):\n",
    "    with os.scandir(file_folder) as files:\n",
    "        lst = [file.name for file in files if re.findall(regex, file.name)]\n",
    "    return lst"
   ]
  },
  {
   "cell_type": "code",
   "execution_count": 31,
   "metadata": {},
   "outputs": [],
   "source": [
    "def is_fund_dataset_downloaded(menu_code, fund_code, input_date, save_date_yyyymmdd, save_folder_path):\n",
    "    regex_file_name_without_input_date = f'menu{menu_code}-code{fund_code}-save{save_date_yyyymmdd}'\n",
    "    regex_file_name_with_input_date = f'menu{menu_code}-code{fund_code}-date{input_date}-save{save_date_yyyymmdd}'\n",
    "    mapping = {\n",
    "        '8186': regex_file_name_without_input_date,\n",
    "        '2160': regex_file_name_without_input_date,\n",
    "        '2205': regex_file_name_with_input_date\n",
    "    }\n",
    "    regex_file_name = mapping[menu_code]\n",
    "    lst = scan_files_including_regex(save_folder_path, regex_file_name)\n",
    "    if len(lst) !=0:\n",
    "        print(f'- download success: {fund_code} in {save_folder_path}')\n",
    "        return True\n",
    "    else:\n",
    "        print(f'- download fail: {fund_code} not in {save_folder_path}')\n",
    "        return False"
   ]
  },
  {
   "cell_type": "code",
   "execution_count": 33,
   "metadata": {},
   "outputs": [],
   "source": [
    "def are_fund_datasets_downloaded(menu_code, fund_codes, input_date, save_date_yyyymmdd, save_folder_path):\n",
    "    dct = {}\n",
    "    bucket_downloaded = []\n",
    "    bucket_not_downloaded = []\n",
    "    for fund_code in fund_codes:\n",
    "        is_downloaded = is_fund_dataset_downloaded(menu_code, fund_code, input_date, save_date_yyyymmdd, save_folder_path)\n",
    "        if is_downloaded:\n",
    "            bucket_downloaded.append(fund_code)\n",
    "        else:\n",
    "            bucket_not_downloaded.append(fund_code)\n",
    "    dct[f'{menu_code}_downloaded'] = bucket_downloaded\n",
    "    dct[f'{menu_code}_not_downloaded'] = bucket_not_downloaded\n",
    "    return dct"
   ]
  },
  {
   "cell_type": "code",
   "execution_count": 34,
   "metadata": {},
   "outputs": [
    {
     "name": "stdout",
     "output_type": "stream",
     "text": [
      "- download fail: 000051 not in C:\\rpa-download-datasets\n",
      "- download fail: 000052 not in C:\\rpa-download-datasets\n",
      "- download fail: 100001 not in C:\\rpa-download-datasets\n",
      "- download fail: 100004 not in C:\\rpa-download-datasets\n",
      "- download fail: 100008 not in C:\\rpa-download-datasets\n",
      "- download fail: 100019 not in C:\\rpa-download-datasets\n",
      "- download fail: 100030 not in C:\\rpa-download-datasets\n",
      "- download fail: 100038 not in C:\\rpa-download-datasets\n",
      "- download fail: 100042 not in C:\\rpa-download-datasets\n",
      "- download fail: 100050 not in C:\\rpa-download-datasets\n",
      "- download fail: 100056 not in C:\\rpa-download-datasets\n",
      "- download fail: 100059 not in C:\\rpa-download-datasets\n",
      "- download fail: 100060 not in C:\\rpa-download-datasets\n",
      "- download fail: 100065 not in C:\\rpa-download-datasets\n",
      "- download fail: 100066 not in C:\\rpa-download-datasets\n",
      "- download fail: 100069 not in C:\\rpa-download-datasets\n",
      "- download fail: 100073 not in C:\\rpa-download-datasets\n",
      "- download fail: 100077 not in C:\\rpa-download-datasets\n",
      "- download fail: 100078 not in C:\\rpa-download-datasets\n",
      "- download fail: 100079 not in C:\\rpa-download-datasets\n",
      "- download fail: 805701 not in C:\\rpa-download-datasets\n",
      "- download fail: 805702 not in C:\\rpa-download-datasets\n",
      "- download fail: 805703 not in C:\\rpa-download-datasets\n",
      "- download fail: 805704 not in C:\\rpa-download-datasets\n",
      "- download success: A00001 in C:\\rpa-download-datasets\n",
      "- download fail: A00002 not in C:\\rpa-download-datasets\n",
      "- download fail: A00003 not in C:\\rpa-download-datasets\n",
      "- download fail: A00004 not in C:\\rpa-download-datasets\n",
      "- download fail: A00005 not in C:\\rpa-download-datasets\n"
     ]
    },
    {
     "data": {
      "text/plain": [
       "{'8186_downloaded': ['A00001'],\n",
       " '8186_not_downloaded': ['000051',\n",
       "  '000052',\n",
       "  '100001',\n",
       "  '100004',\n",
       "  '100008',\n",
       "  '100019',\n",
       "  '100030',\n",
       "  '100038',\n",
       "  '100042',\n",
       "  '100050',\n",
       "  '100056',\n",
       "  '100059',\n",
       "  '100060',\n",
       "  '100065',\n",
       "  '100066',\n",
       "  '100069',\n",
       "  '100073',\n",
       "  '100077',\n",
       "  '100078',\n",
       "  '100079',\n",
       "  '805701',\n",
       "  '805702',\n",
       "  '805703',\n",
       "  '805704',\n",
       "  'A00002',\n",
       "  'A00003',\n",
       "  'A00004',\n",
       "  'A00005']}"
      ]
     },
     "execution_count": 34,
     "metadata": {},
     "output_type": "execute_result"
    }
   ],
   "source": [
    "dct = are_fund_datasets_downloaded('8186', fund_codes_october, '20210101', '20231106', 'C:\\\\rpa-download-datasets')\n",
    "dct"
   ]
  },
  {
   "cell_type": "code",
   "execution_count": 28,
   "metadata": {},
   "outputs": [
    {
     "data": {
      "text/plain": [
       "['000051',\n",
       " '000052',\n",
       " '100001',\n",
       " '100004',\n",
       " '100008',\n",
       " '100019',\n",
       " '100030',\n",
       " '100038',\n",
       " '100042',\n",
       " '100050',\n",
       " '100056',\n",
       " '100059',\n",
       " '100060',\n",
       " '100065',\n",
       " '100066',\n",
       " '100069',\n",
       " '100073',\n",
       " '100077',\n",
       " '100078',\n",
       " '100079',\n",
       " '805701',\n",
       " '805702',\n",
       " '805703',\n",
       " '805704',\n",
       " 'A00002',\n",
       " 'A00003',\n",
       " 'A00004',\n",
       " 'A00005']"
      ]
     },
     "execution_count": 28,
     "metadata": {},
     "output_type": "execute_result"
    }
   ],
   "source": [
    "menu = '8186'\n",
    "dct[f'{menu}_not_downloaded']"
   ]
  },
  {
   "cell_type": "code",
   "execution_count": null,
   "metadata": {},
   "outputs": [],
   "source": []
  },
  {
   "cell_type": "code",
   "execution_count": 21,
   "metadata": {},
   "outputs": [
    {
     "name": "stdout",
     "output_type": "stream",
     "text": [
      "- download fail: 000051 not in C:\\rpa-download-datasets\n",
      "- download fail: 000052 not in C:\\rpa-download-datasets\n",
      "- download fail: 100001 not in C:\\rpa-download-datasets\n",
      "- download fail: 100004 not in C:\\rpa-download-datasets\n",
      "- download fail: 100008 not in C:\\rpa-download-datasets\n",
      "- download fail: 100019 not in C:\\rpa-download-datasets\n",
      "- download fail: 100030 not in C:\\rpa-download-datasets\n",
      "- download fail: 100038 not in C:\\rpa-download-datasets\n",
      "- download fail: 100042 not in C:\\rpa-download-datasets\n",
      "- download fail: 100050 not in C:\\rpa-download-datasets\n",
      "- download fail: 100056 not in C:\\rpa-download-datasets\n",
      "- download fail: 100059 not in C:\\rpa-download-datasets\n",
      "- download fail: 100060 not in C:\\rpa-download-datasets\n",
      "- download fail: 100065 not in C:\\rpa-download-datasets\n",
      "- download fail: 100066 not in C:\\rpa-download-datasets\n",
      "- download fail: 100069 not in C:\\rpa-download-datasets\n",
      "- download fail: 100073 not in C:\\rpa-download-datasets\n",
      "- download fail: 100077 not in C:\\rpa-download-datasets\n",
      "- download fail: 100078 not in C:\\rpa-download-datasets\n",
      "- download fail: 100079 not in C:\\rpa-download-datasets\n",
      "- download fail: 805701 not in C:\\rpa-download-datasets\n",
      "- download fail: 805702 not in C:\\rpa-download-datasets\n",
      "- download fail: 805703 not in C:\\rpa-download-datasets\n",
      "- download fail: 805704 not in C:\\rpa-download-datasets\n",
      "- download success: A00001 in C:\\rpa-download-datasets\n",
      "- download fail: A00002 not in C:\\rpa-download-datasets\n",
      "- download fail: A00003 not in C:\\rpa-download-datasets\n",
      "- download fail: A00004 not in C:\\rpa-download-datasets\n",
      "- download fail: A00005 not in C:\\rpa-download-datasets\n"
     ]
    },
    {
     "data": {
      "text/plain": [
       "{'8186_downloaded': ['A00001'],\n",
       " '8186_not_downloaded': ['000051',\n",
       "  '000052',\n",
       "  '100001',\n",
       "  '100004',\n",
       "  '100008',\n",
       "  '100019',\n",
       "  '100030',\n",
       "  '100038',\n",
       "  '100042',\n",
       "  '100050',\n",
       "  '100056',\n",
       "  '100059',\n",
       "  '100060',\n",
       "  '100065',\n",
       "  '100066',\n",
       "  '100069',\n",
       "  '100073',\n",
       "  '100077',\n",
       "  '100078',\n",
       "  '100079',\n",
       "  '805701',\n",
       "  '805702',\n",
       "  '805703',\n",
       "  '805704',\n",
       "  'A00002',\n",
       "  'A00003',\n",
       "  'A00004',\n",
       "  'A00005']}"
      ]
     },
     "execution_count": 21,
     "metadata": {},
     "output_type": "execute_result"
    }
   ],
   "source": [
    "are_fund_datasets_downloaded('8186', fund_codes_october, '20210101', '20231106', 'C:\\\\rpa-download-datasets')"
   ]
  },
  {
   "cell_type": "code",
   "execution_count": 25,
   "metadata": {},
   "outputs": [
    {
     "name": "stdout",
     "output_type": "stream",
     "text": [
      "- download success: 000051 in C:\\rpa-download-datasets\n",
      "- download success: 000052 in C:\\rpa-download-datasets\n",
      "- download success: 100001 in C:\\rpa-download-datasets\n",
      "- download success: 100004 in C:\\rpa-download-datasets\n",
      "- download success: 100008 in C:\\rpa-download-datasets\n",
      "- download success: 100019 in C:\\rpa-download-datasets\n",
      "- download success: 100030 in C:\\rpa-download-datasets\n",
      "- download success: 100038 in C:\\rpa-download-datasets\n",
      "- download success: 100042 in C:\\rpa-download-datasets\n",
      "- download success: 100050 in C:\\rpa-download-datasets\n",
      "- download success: 100056 in C:\\rpa-download-datasets\n",
      "- download success: 100059 in C:\\rpa-download-datasets\n",
      "- download success: 100060 in C:\\rpa-download-datasets\n",
      "- download success: 100065 in C:\\rpa-download-datasets\n",
      "- download success: 100066 in C:\\rpa-download-datasets\n",
      "- download success: 100069 in C:\\rpa-download-datasets\n",
      "- download success: 100073 in C:\\rpa-download-datasets\n",
      "- download success: 100077 in C:\\rpa-download-datasets\n",
      "- download success: 100078 in C:\\rpa-download-datasets\n",
      "- download success: 100079 in C:\\rpa-download-datasets\n",
      "- download success: 805701 in C:\\rpa-download-datasets\n",
      "- download success: 805702 in C:\\rpa-download-datasets\n",
      "- download success: 805703 in C:\\rpa-download-datasets\n",
      "- download success: 805704 in C:\\rpa-download-datasets\n",
      "- download success: A00001 in C:\\rpa-download-datasets\n",
      "- download success: A00002 in C:\\rpa-download-datasets\n",
      "- download success: A00003 in C:\\rpa-download-datasets\n",
      "- download success: A00004 in C:\\rpa-download-datasets\n",
      "- download success: A00005 in C:\\rpa-download-datasets\n"
     ]
    },
    {
     "data": {
      "text/plain": [
       "{'2205_downloaded': ['000051',\n",
       "  '000052',\n",
       "  '100001',\n",
       "  '100004',\n",
       "  '100008',\n",
       "  '100019',\n",
       "  '100030',\n",
       "  '100038',\n",
       "  '100042',\n",
       "  '100050',\n",
       "  '100056',\n",
       "  '100059',\n",
       "  '100060',\n",
       "  '100065',\n",
       "  '100066',\n",
       "  '100069',\n",
       "  '100073',\n",
       "  '100077',\n",
       "  '100078',\n",
       "  '100079',\n",
       "  '805701',\n",
       "  '805702',\n",
       "  '805703',\n",
       "  '805704',\n",
       "  'A00001',\n",
       "  'A00002',\n",
       "  'A00003',\n",
       "  'A00004',\n",
       "  'A00005'],\n",
       " '2205_not_downloaded': []}"
      ]
     },
     "execution_count": 25,
     "metadata": {},
     "output_type": "execute_result"
    }
   ],
   "source": [
    "are_fund_datasets_downloaded('2205', fund_codes_october, '20231031', '20231105', 'C:\\\\rpa-download-datasets')"
   ]
  },
  {
   "cell_type": "code",
   "execution_count": null,
   "metadata": {},
   "outputs": [],
   "source": []
  }
 ],
 "metadata": {
  "kernelspec": {
   "display_name": "base",
   "language": "python",
   "name": "python3"
  },
  "language_info": {
   "codemirror_mode": {
    "name": "ipython",
    "version": 3
   },
   "file_extension": ".py",
   "mimetype": "text/x-python",
   "name": "python",
   "nbconvert_exporter": "python",
   "pygments_lexer": "ipython3",
   "version": "3.10.9"
  },
  "orig_nbformat": 4
 },
 "nbformat": 4,
 "nbformat_minor": 2
}
