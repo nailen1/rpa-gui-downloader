{
 "cells": [
  {
   "cell_type": "code",
   "execution_count": 58,
   "metadata": {},
   "outputs": [
    {
     "data": {
      "text/plain": [
       "<module 'DownloadAutomation' from 'c:\\\\Users\\\\danie\\\\Documents\\\\dev-windows\\\\rpa-gui-control\\\\DownloadAutomation.py'>"
      ]
     },
     "execution_count": 58,
     "metadata": {},
     "output_type": "execute_result"
    }
   ],
   "source": [
    "import DownloadAutomation as da\n",
    "import DownloadAutomation\n",
    "from DownloadAutomation import BOS\n",
    "from DownloadAutomation import MOS\n",
    "\n",
    "import importlib\n",
    "importlib.reload(DownloadAutomation)\n",
    "importlib.reload(da)\n"
   ]
  },
  {
   "cell_type": "code",
   "execution_count": 59,
   "metadata": {},
   "outputs": [
    {
     "name": "stdout",
     "output_type": "stream",
     "text": [
      "- step: open menu: 2820\n",
      "- Timeout! Could not find the image 'image-8186-loading.png' within 1 seconds.\n",
      "- step: set inputs.\n",
      "step: wait loading...\n",
      "- step: click excel download button.\n",
      "- step: execute Excel.\n",
      "- step: open save as popup.\n",
      "- Timeout! Could not find the image 'image-8186-loading.png' within 1 seconds.\n",
      "- step: input save settings.\n",
      "- Timeout! Could not find the image 'icon-caution-save-as.png' within 1 seconds.\n",
      "- Timeout! Could not find the image 'image-8186-loading.png' within 1 seconds.\n",
      "- download success: A00001 in C:\\rpa-download-datasets\n",
      "- step: terminate Excel.\n",
      "- step: return to home.\n",
      "- save complete: menu2820-codeA00001-date20231031-save202311091717.csv in C:\\rpa-download-datasets\n"
     ]
    }
   ],
   "source": [
    "MOS(fund_code='A00001', start_date='20231001', end_date='20231031').goto_menu('2820').download_dataset()\n"
   ]
  },
  {
   "cell_type": "code",
   "execution_count": 61,
   "metadata": {},
   "outputs": [
    {
     "name": "stdout",
     "output_type": "stream",
     "text": [
      "- step: open menu: 2820\n"
     ]
    },
    {
     "ename": "KeyboardInterrupt",
     "evalue": "",
     "output_type": "error",
     "traceback": [
      "\u001b[1;31m---------------------------------------------------------------------------\u001b[0m",
      "\u001b[1;31mKeyboardInterrupt\u001b[0m                         Traceback (most recent call last)",
      "\u001b[1;32mc:\\Users\\danie\\Documents\\dev-windows\\rpa-gui-control\\download-2820.ipynb Cell 3\u001b[0m line \u001b[0;36m1\n\u001b[1;32m----> <a href='vscode-notebook-cell:/c%3A/Users/danie/Documents/dev-windows/rpa-gui-control/download-2820.ipynb#X15sZmlsZQ%3D%3D?line=0'>1</a>\u001b[0m MOS(fund_code\u001b[39m=\u001b[39;49m\u001b[39m'\u001b[39;49m\u001b[39mA00002\u001b[39;49m\u001b[39m'\u001b[39;49m, start_date\u001b[39m=\u001b[39;49m\u001b[39m'\u001b[39;49m\u001b[39m20210101\u001b[39;49m\u001b[39m'\u001b[39;49m, end_date\u001b[39m=\u001b[39;49m\u001b[39m'\u001b[39;49m\u001b[39m20231031\u001b[39;49m\u001b[39m'\u001b[39;49m)\u001b[39m.\u001b[39;49mgoto_menu(\u001b[39m'\u001b[39;49m\u001b[39m2820\u001b[39;49m\u001b[39m'\u001b[39;49m)\u001b[39m.\u001b[39mdownload_dataset()\n\u001b[0;32m      <a href='vscode-notebook-cell:/c%3A/Users/danie/Documents/dev-windows/rpa-gui-control/download-2820.ipynb#X15sZmlsZQ%3D%3D?line=1'>2</a>\u001b[0m MOS(fund_code\u001b[39m=\u001b[39m\u001b[39m'\u001b[39m\u001b[39m805701\u001b[39m\u001b[39m'\u001b[39m, start_date\u001b[39m=\u001b[39m\u001b[39m'\u001b[39m\u001b[39m20210101\u001b[39m\u001b[39m'\u001b[39m, end_date\u001b[39m=\u001b[39m\u001b[39m'\u001b[39m\u001b[39m20231031\u001b[39m\u001b[39m'\u001b[39m)\u001b[39m.\u001b[39mgoto_menu(\u001b[39m'\u001b[39m\u001b[39m2820\u001b[39m\u001b[39m'\u001b[39m)\u001b[39m.\u001b[39mdownload_dataset()\n",
      "File \u001b[1;32mc:\\Users\\danie\\Documents\\dev-windows\\rpa-gui-control\\DownloadAutomation.py:448\u001b[0m, in \u001b[0;36mBOS.goto_menu\u001b[1;34m(self, menu_code)\u001b[0m\n\u001b[0;32m    446\u001b[0m \u001b[39mdef\u001b[39;00m \u001b[39mgoto_menu\u001b[39m(\u001b[39mself\u001b[39m, menu_code):\n\u001b[0;32m    447\u001b[0m     \u001b[39mself\u001b[39m\u001b[39m.\u001b[39mmenu_code \u001b[39m=\u001b[39m menu_code\n\u001b[1;32m--> 448\u001b[0m     control_from_home_to_menu(\u001b[39mself\u001b[39;49m\u001b[39m.\u001b[39;49mmenu_code)\n\u001b[0;32m    449\u001b[0m     wait_loading()\n\u001b[0;32m    450\u001b[0m     \u001b[39mreturn\u001b[39;00m \u001b[39mself\u001b[39m\n",
      "File \u001b[1;32mc:\\Users\\danie\\Documents\\dev-windows\\rpa-gui-control\\DownloadAutomation.py:237\u001b[0m, in \u001b[0;36mcontrol_from_home_to_menu\u001b[1;34m(menu_code)\u001b[0m\n\u001b[0;32m    235\u001b[0m time\u001b[39m.\u001b[39msleep(time_interval_l)\n\u001b[0;32m    236\u001b[0m press(\u001b[39m'\u001b[39m\u001b[39menter\u001b[39m\u001b[39m'\u001b[39m)\n\u001b[1;32m--> 237\u001b[0m time\u001b[39m.\u001b[39;49msleep(time_interval_l)\n",
      "\u001b[1;31mKeyboardInterrupt\u001b[0m: "
     ]
    }
   ],
   "source": [
    "MOS(fund_code='A00002', start_date='20231001', end_date='20231031').goto_menu('2820').download_dataset()\n",
    "MOS(fund_code='805701', start_date='20231001', end_date='20231031').goto_menu('2820').download_dataset()\n"
   ]
  },
  {
   "cell_type": "code",
   "execution_count": 62,
   "metadata": {},
   "outputs": [
    {
     "name": "stdout",
     "output_type": "stream",
     "text": [
      "- step: open menu: 2820\n",
      "- Timeout! Could not find the image 'image-8186-loading.png' within 1 seconds.\n",
      "- step: set inputs.\n",
      "step: wait loading...\n",
      "- step: click excel download button.\n",
      "- step: execute Excel.\n",
      "- step: open save as popup.\n",
      "- Timeout! Could not find the image 'image-8186-loading.png' within 1 seconds.\n",
      "- step: input save settings.\n",
      "- Timeout! Could not find the image 'icon-caution-save-as.png' within 1 seconds.\n",
      "- Timeout! Could not find the image 'image-8186-loading.png' within 1 seconds.\n",
      "- download fail: A00003 not in C:\\rpa-download-datasets\n",
      "- step: set inputs.\n",
      "step: wait loading...\n",
      "- step: click excel download button.\n",
      "- step: execute Excel.\n",
      "- step: open save as popup.\n",
      "- Timeout! Could not find the image 'image-8186-loading.png' within 1 seconds.\n",
      "- step: input save settings.\n",
      "- Timeout! Could not find the image 'icon-caution-save-as.png' within 1 seconds.\n",
      "- Timeout! Could not find the image 'image-8186-loading.png' within 1 seconds.\n",
      "- download fail: A00003 not in C:\\rpa-download-datasets\n",
      "- step: set inputs.\n",
      "step: wait loading...\n",
      "- step: click excel download button.\n",
      "- step: execute Excel.\n"
     ]
    },
    {
     "ename": "KeyboardInterrupt",
     "evalue": "",
     "output_type": "error",
     "traceback": [
      "\u001b[1;31m---------------------------------------------------------------------------\u001b[0m",
      "\u001b[1;31mKeyboardInterrupt\u001b[0m                         Traceback (most recent call last)",
      "\u001b[1;32mc:\\Users\\danie\\Documents\\dev-windows\\rpa-gui-control\\download-2820.ipynb Cell 4\u001b[0m line \u001b[0;36m1\n\u001b[1;32m----> <a href='vscode-notebook-cell:/c%3A/Users/danie/Documents/dev-windows/rpa-gui-control/download-2820.ipynb#X16sZmlsZQ%3D%3D?line=0'>1</a>\u001b[0m MOS(fund_code\u001b[39m=\u001b[39;49m\u001b[39m'\u001b[39;49m\u001b[39mA00003\u001b[39;49m\u001b[39m'\u001b[39;49m, start_date\u001b[39m=\u001b[39;49m\u001b[39m'\u001b[39;49m\u001b[39m20210101\u001b[39;49m\u001b[39m'\u001b[39;49m, end_date\u001b[39m=\u001b[39;49m\u001b[39m'\u001b[39;49m\u001b[39m20231031\u001b[39;49m\u001b[39m'\u001b[39;49m)\u001b[39m.\u001b[39;49mgoto_menu(\u001b[39m'\u001b[39;49m\u001b[39m2820\u001b[39;49m\u001b[39m'\u001b[39;49m)\u001b[39m.\u001b[39;49mdownload_dataset()\n\u001b[0;32m      <a href='vscode-notebook-cell:/c%3A/Users/danie/Documents/dev-windows/rpa-gui-control/download-2820.ipynb#X16sZmlsZQ%3D%3D?line=1'>2</a>\u001b[0m MOS(fund_code\u001b[39m=\u001b[39m\u001b[39m'\u001b[39m\u001b[39mA00004\u001b[39m\u001b[39m'\u001b[39m, start_date\u001b[39m=\u001b[39m\u001b[39m'\u001b[39m\u001b[39m20210101\u001b[39m\u001b[39m'\u001b[39m, end_date\u001b[39m=\u001b[39m\u001b[39m'\u001b[39m\u001b[39m20231031\u001b[39m\u001b[39m'\u001b[39m)\u001b[39m.\u001b[39mgoto_menu(\u001b[39m'\u001b[39m\u001b[39m2820\u001b[39m\u001b[39m'\u001b[39m)\u001b[39m.\u001b[39mdownload_dataset()\n",
      "File \u001b[1;32mc:\\Users\\danie\\Documents\\dev-windows\\rpa-gui-control\\DownloadAutomation.py:478\u001b[0m, in \u001b[0;36mMOS.download_dataset\u001b[1;34m(self)\u001b[0m\n\u001b[0;32m    472\u001b[0m \u001b[39mdef\u001b[39;00m \u001b[39mdownload_dataset\u001b[39m(\u001b[39mself\u001b[39m):\n\u001b[0;32m    473\u001b[0m     mapping \u001b[39m=\u001b[39m {\n\u001b[0;32m    474\u001b[0m         \u001b[39m'\u001b[39m\u001b[39m2160\u001b[39m\u001b[39m'\u001b[39m: \u001b[39mself\u001b[39m\u001b[39m.\u001b[39mdownload_dataset_2160,\n\u001b[0;32m    475\u001b[0m         \u001b[39m'\u001b[39m\u001b[39m2205\u001b[39m\u001b[39m'\u001b[39m: \u001b[39mself\u001b[39m\u001b[39m.\u001b[39mdownload_dataset_2205,\n\u001b[0;32m    476\u001b[0m         \u001b[39m'\u001b[39m\u001b[39m2820\u001b[39m\u001b[39m'\u001b[39m: \u001b[39mself\u001b[39m\u001b[39m.\u001b[39mdownload_dataset_2820\n\u001b[0;32m    477\u001b[0m     }\n\u001b[1;32m--> 478\u001b[0m     mapping[\u001b[39mself\u001b[39;49m\u001b[39m.\u001b[39;49mmenu_code]()\n",
      "File \u001b[1;32mc:\\Users\\danie\\Documents\\dev-windows\\rpa-gui-control\\DownloadAutomation.py:527\u001b[0m, in \u001b[0;36mMOS.download_dataset_2820\u001b[1;34m(self)\u001b[0m\n\u001b[0;32m    525\u001b[0m     close_excel_and_goto_home()\n\u001b[0;32m    526\u001b[0m \u001b[39melse\u001b[39;00m:\n\u001b[1;32m--> 527\u001b[0m     \u001b[39mself\u001b[39;49m\u001b[39m.\u001b[39;49mdownload_dataset_2820()\n\u001b[0;32m    528\u001b[0m \u001b[39mprint\u001b[39m(\u001b[39mf\u001b[39m\u001b[39m'\u001b[39m\u001b[39m- save complete: \u001b[39m\u001b[39m{\u001b[39;00m\u001b[39mself\u001b[39m\u001b[39m.\u001b[39mfile_name\u001b[39m}\u001b[39;00m\u001b[39m in \u001b[39m\u001b[39m{\u001b[39;00m\u001b[39mself\u001b[39m\u001b[39m.\u001b[39mfolder_path\u001b[39m}\u001b[39;00m\u001b[39m'\u001b[39m)\n",
      "File \u001b[1;32mc:\\Users\\danie\\Documents\\dev-windows\\rpa-gui-control\\DownloadAutomation.py:527\u001b[0m, in \u001b[0;36mMOS.download_dataset_2820\u001b[1;34m(self)\u001b[0m\n\u001b[0;32m    525\u001b[0m     close_excel_and_goto_home()\n\u001b[0;32m    526\u001b[0m \u001b[39melse\u001b[39;00m:\n\u001b[1;32m--> 527\u001b[0m     \u001b[39mself\u001b[39;49m\u001b[39m.\u001b[39;49mdownload_dataset_2820()\n\u001b[0;32m    528\u001b[0m \u001b[39mprint\u001b[39m(\u001b[39mf\u001b[39m\u001b[39m'\u001b[39m\u001b[39m- save complete: \u001b[39m\u001b[39m{\u001b[39;00m\u001b[39mself\u001b[39m\u001b[39m.\u001b[39mfile_name\u001b[39m}\u001b[39;00m\u001b[39m in \u001b[39m\u001b[39m{\u001b[39;00m\u001b[39mself\u001b[39m\u001b[39m.\u001b[39mfolder_path\u001b[39m}\u001b[39;00m\u001b[39m'\u001b[39m)\n",
      "File \u001b[1;32mc:\\Users\\danie\\Documents\\dev-windows\\rpa-gui-control\\DownloadAutomation.py:515\u001b[0m, in \u001b[0;36mMOS.download_dataset_2820\u001b[1;34m(self)\u001b[0m\n\u001b[0;32m    513\u001b[0m control_on_2820_to_set_inputs(\u001b[39mself\u001b[39m\u001b[39m.\u001b[39mfund_code, \u001b[39mself\u001b[39m\u001b[39m.\u001b[39mstart_date, \u001b[39mself\u001b[39m\u001b[39m.\u001b[39mend_date)\n\u001b[0;32m    514\u001b[0m wait_loading()\n\u001b[1;32m--> 515\u001b[0m control_on_2820_to_excel()\n\u001b[0;32m    516\u001b[0m wait_execution()\n\u001b[0;32m    517\u001b[0m control_on_excel_to_save_as_popup()\n",
      "File \u001b[1;32mc:\\Users\\danie\\Documents\\dev-windows\\rpa-gui-control\\DownloadAutomation.py:436\u001b[0m, in \u001b[0;36mcontrol_on_2820_to_excel\u001b[1;34m()\u001b[0m\n\u001b[0;32m    434\u001b[0m     click(coord_2820_excel_format_popup_button)\n\u001b[0;32m    435\u001b[0m time\u001b[39m.\u001b[39msleep(time_interval_loading)\n\u001b[1;32m--> 436\u001b[0m time\u001b[39m.\u001b[39;49msleep(\u001b[39m10\u001b[39;49m)\n",
      "\u001b[1;31mKeyboardInterrupt\u001b[0m: "
     ]
    }
   ],
   "source": [
    "MOS(fund_code='A00003', start_date='20210101', end_date='20231031').goto_menu('2820').download_dataset()\n",
    "MOS(fund_code='A00004', start_date='20210101', end_date='20231031').goto_menu('2820').download_dataset()\n"
   ]
  },
  {
   "cell_type": "code",
   "execution_count": 2,
   "metadata": {},
   "outputs": [],
   "source": [
    "import pyautogui\n",
    "from pyautogui import *\n",
    "import time\n",
    "from time import sleep as ____sleep"
   ]
  },
  {
   "cell_type": "code",
   "execution_count": 5,
   "metadata": {},
   "outputs": [],
   "source": [
    "w,h=size()"
   ]
  },
  {
   "cell_type": "code",
   "execution_count": 45,
   "metadata": {},
   "outputs": [
    {
     "data": {
      "text/plain": [
       "Point(x=1036, y=434)"
      ]
     },
     "execution_count": 45,
     "metadata": {},
     "output_type": "execute_result"
    }
   ],
   "source": [
    "position()"
   ]
  },
  {
   "cell_type": "code",
   "execution_count": 21,
   "metadata": {},
   "outputs": [],
   "source": [
    "def get_proportional_coord(point_obj):\n",
    "    x,y = point_obj\n",
    "    w,h = size()\n",
    "    prop_x = round(x/w,2)\n",
    "    prop_y = round(y/h,2)\n",
    "    return (prop_x,prop_y)"
   ]
  },
  {
   "cell_type": "code",
   "execution_count": 28,
   "metadata": {},
   "outputs": [],
   "source": [
    "def get_coord(*args):\n",
    "    if len(args) == 1 and isinstance(args[0], tuple) and len(args[0]) == 2:\n",
    "        x, y = args[0]\n",
    "    elif len(args) == 2:\n",
    "        x, y = args\n",
    "    else:\n",
    "        raise ValueError(\"Function requires a single (x, y) tuple or two separate x and y arguments.\")\n",
    "\n",
    "    w, h = size()\n",
    "    if 0 <= x <= 1 and 0 <= y <= 1:\n",
    "        return Point(x * w, y * h)\n",
    "    else:\n",
    "        return Point(x, y)"
   ]
  },
  {
   "cell_type": "code",
   "execution_count": 26,
   "metadata": {},
   "outputs": [
    {
     "data": {
      "text/plain": [
       "(0.04, 0.15)"
      ]
     },
     "execution_count": 26,
     "metadata": {},
     "output_type": "execute_result"
    }
   ],
   "source": [
    "get_proportional_coord(position())"
   ]
  },
  {
   "cell_type": "code",
   "execution_count": 29,
   "metadata": {},
   "outputs": [
    {
     "data": {
      "text/plain": [
       "Point(x=102.4, y=216.0)"
      ]
     },
     "execution_count": 29,
     "metadata": {},
     "output_type": "execute_result"
    }
   ],
   "source": [
    "get_coord((0.04, 0.15))"
   ]
  },
  {
   "cell_type": "code",
   "execution_count": 44,
   "metadata": {},
   "outputs": [],
   "source": [
    "moveTo(Point(x=1157, y=304), duration=1)"
   ]
  },
  {
   "cell_type": "code",
   "execution_count": null,
   "metadata": {},
   "outputs": [],
   "source": [
    "prop_coord_input_fund = "
   ]
  },
  {
   "cell_type": "code",
   "execution_count": null,
   "metadata": {},
   "outputs": [],
   "source": [
    "coord_2820_input_fund_code = Point(x=121, y=212)\n",
    "coord_2820_input_star_date = Point(x=120, y=241)\n",
    "coord_2820_input_end_date = Point(x=237, y=239)\n",
    "\n"
   ]
  }
 ],
 "metadata": {
  "kernelspec": {
   "display_name": "base",
   "language": "python",
   "name": "python3"
  },
  "language_info": {
   "codemirror_mode": {
    "name": "ipython",
    "version": 3
   },
   "file_extension": ".py",
   "mimetype": "text/x-python",
   "name": "python",
   "nbconvert_exporter": "python",
   "pygments_lexer": "ipython3",
   "version": "3.10.9"
  }
 },
 "nbformat": 4,
 "nbformat_minor": 2
}
